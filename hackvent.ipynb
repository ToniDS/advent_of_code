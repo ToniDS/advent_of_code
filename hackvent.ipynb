{
 "cells": [
  {
   "cell_type": "markdown",
   "metadata": {},
   "source": [
    "### 1"
   ]
  },
  {
   "cell_type": "code",
   "execution_count": 9,
   "metadata": {},
   "outputs": [
    {
     "name": "stdout",
     "output_type": "stream",
     "text": [
      "JPEG (256, 256) RGB\n"
     ]
    }
   ],
   "source": [
    "from PIL import Image\n",
    "im = Image.open(\"f182d5f0-1d10-4f0f-a0c1-7cba0981b6da.jpg\")\n",
    "im.load()\n",
    "print(im.format, im.size, im.mode)\n",
    "\n"
   ]
  }
 ],
 "metadata": {
  "kernelspec": {
   "display_name": "Python (pythonfoo)",
   "language": "python",
   "name": "pythonfoo"
  },
  "language_info": {
   "codemirror_mode": {
    "name": "ipython",
    "version": 3
   },
   "file_extension": ".py",
   "mimetype": "text/x-python",
   "name": "python",
   "nbconvert_exporter": "python",
   "pygments_lexer": "ipython3",
   "version": "3.7.3"
  }
 },
 "nbformat": 4,
 "nbformat_minor": 2
}
