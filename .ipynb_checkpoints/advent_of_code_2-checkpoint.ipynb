{
 "cells": [
  {
   "cell_type": "code",
   "execution_count": 2,
   "metadata": {},
   "outputs": [],
   "source": [
    "from aocd.models import Puzzle"
   ]
  },
  {
   "cell_type": "markdown",
   "metadata": {},
   "source": [
    "### Tag 5"
   ]
  },
  {
   "cell_type": "code",
   "execution_count": null,
   "metadata": {},
   "outputs": [],
   "source": [
    "class Intcode(inputs):\n",
    "    def __init__():\n",
    "        self.data = inputs\n",
    "        self.original_data = inputs\n",
    "        self.current_position = 0\n",
    "    def parse_opcode(x):\n",
    "        par1 = x // 100\n",
    "        par2 = x // 1000\n",
    "        par3 = x // 10000\n",
    "        opcode = x % 10\n",
    "    def translate_pars(par1, par2, par3):\n",
    "        if par1 == 0:\n",
    "            par1 = data[self.current_position +1]\n",
    "        else:\n",
    "            par1 = self.current_position +1\n",
    "        if par2 == 0:\n",
    "            par2 = data[self.current_position + 2]\n",
    "        else:\n",
    "            par2 = self.current_position +2\n",
    "    def do_instructions(opcode, par1, par2, par3):\n",
    "        if opcode == 1:\n",
    "            self.data[self.data[par3]] = self.data[self.data[par1]] + self.data[self.data[par2]]\n",
    "            \n",
    "            "
   ]
  },
  {
   "cell_type": "markdown",
   "metadata": {},
   "source": [
    "### Tag 8"
   ]
  },
  {
   "cell_type": "code",
   "execution_count": null,
   "metadata": {},
   "outputs": [],
   "source": []
  },
  {
   "cell_type": "markdown",
   "metadata": {},
   "source": [
    "### Tag 10"
   ]
  },
  {
   "cell_type": "code",
   "execution_count": 6,
   "metadata": {},
   "outputs": [],
   "source": [
    "puzzle = Puzzle(year=2019, day = 10)\n",
    "data = puzzle.input_data"
   ]
  },
  {
   "cell_type": "code",
   "execution_count": 7,
   "metadata": {},
   "outputs": [
    {
     "name": "stdout",
     "output_type": "stream",
     "text": [
      "...###.#########.####\n",
      ".######.###.###.##...\n",
      "####.########.#####.#\n",
      "########.####.##.###.\n",
      "####..#.####.#.#.##..\n",
      "#.################.##\n",
      "..######.##.##.#####.\n",
      "#.####.#####.###.#.##\n",
      "#####.#########.#####\n",
      "#####.##..##..#.#####\n",
      "##.######....########\n",
      ".#######.#.#########.\n",
      ".#.##.#.#.#.##.###.##\n",
      "######...####.#.#.###\n",
      "###############.#.###\n",
      "#.#####.##..###.##.#.\n",
      "##..##..###.#.#######\n",
      "#..#..########.#.##..\n",
      "#.#.######.##.##...##\n",
      ".#.##.#####.#..#####.\n",
      "#.#.##########..#.##.\n"
     ]
    }
   ],
   "source": [
    "print(data)"
   ]
  },
  {
   "cell_type": "code",
   "execution_count": 27,
   "metadata": {},
   "outputs": [
    {
     "name": "stdout",
     "output_type": "stream",
     "text": [
      "[['.', '.', '.', '.', '.', '.', '#', '.', '#', '.'], ['#', '.', '.', '#', '.', '#', '.', '.', '.', '.'], ['.', '.', '#', '#', '#', '#', '#', '#', '#', '.'], ['.', '#', '.', '#', '.', '#', '#', '#', '.', '.'], ['.', '#', '.', '.', '#', '.', '.', '.', '.', '.'], ['.', '.', '#', '.', '.', '.', '.', '#', '.', '#'], ['#', '.', '.', '#', '.', '.', '.', '.', '#', '.'], ['.', '#', '#', '.', '#', '.', '.', '#', '#', '#'], ['#', '#', '.', '.', '.', '#', '.', '.', '#', '.'], ['.', '#', '.', '.', '.', '.', '#', '#', '#', '#']]\n",
      "[((6, 0), 13), ((8, 0), 3), ((0, 1), 9), ((3, 1), 18), ((5, 1), 17), ((2, 2), 23), ((3, 2), 26), ((4, 2), 26), ((5, 2), 24), ((6, 2), 20), ((7, 2), 14), ((8, 2), 6), ((1, 3), 25), ((3, 3), 31), ((5, 3), 29), ((6, 3), 22), ((7, 3), 14), ((1, 4), 27), ((4, 4), 32), ((2, 5), 31), ((7, 5), 9), ((9, 5), 3), ((0, 6), 29), ((3, 6), 36), ((8, 6), 7), ((1, 7), 38), ((2, 7), 39), ((4, 7), 35), ((7, 7), 12), ((8, 7), 9), ((9, 7), 3), ((0, 8), 39), ((1, 8), 42), ((5, 8), 20), ((8, 8), 9), ((1, 9), 44), ((6, 9), 14), ((7, 9), 13), ((8, 9), 8), ((9, 9), 3)]\n"
     ]
    }
   ],
   "source": [
    "data = \"\"\"......#.#.\n",
    "#..#.#....\n",
    "..#######.\n",
    ".#.#.###..\n",
    ".#..#.....\n",
    "..#....#.#\n",
    "#..#....#.\n",
    ".##.#..###\n",
    "##...#..#.\n",
    ".#....####\"\"\"\n",
    "inputs = [ list(x) for x in data.split(\"\\n\")]\n",
    "print(inputs)\n",
    "\n",
    "\n",
    "asteroid_counter = []\n",
    "for i in range(len(inputs)):\n",
    "    for j in range(len(inputs[i])):\n",
    "        if inputs[i][j] == \"#\":\n",
    "            asteroid = (j, i)\n",
    "            counter = 0\n",
    "            for l in range(len(inputs)-j):\n",
    "                for k in range(len(inputs[i])-j):\n",
    "                    if i+l < len(inputs) and j+k < len(inputs[i]):\n",
    "                        if [j+k] == \"#\":\n",
    "                            counter += 1\n",
    "                    if 0<= i-l < len(inputs) and 0<=j-k < len(inputs[i]):\n",
    "                        if inputs[i-l][j-k] == \"#\":\n",
    "                            counter += 1\n",
    "                    if 0<= i-l < len(inputs) and 0<=j+k < len(inputs[i]):\n",
    "                        if inputs[i-l][j+k] == \"#\":\n",
    "                            counter += 1\n",
    "                    if 0<= i+l < len(inputs) and 0<=j-k < len(inputs[i]):\n",
    "                        if inputs[i+l][j-k] == \"#\":\n",
    "                            counter += 1\n",
    "            asteroid_counter.append((asteroid, counter))\n",
    "print(asteroid_counter)\n",
    "            "
   ]
  }
 ],
 "metadata": {
  "kernelspec": {
   "display_name": "Python (pythonfoo)",
   "language": "python",
   "name": "pythonfoo"
  },
  "language_info": {
   "codemirror_mode": {
    "name": "ipython",
    "version": 3
   },
   "file_extension": ".py",
   "mimetype": "text/x-python",
   "name": "python",
   "nbconvert_exporter": "python",
   "pygments_lexer": "ipython3",
   "version": "3.7.3"
  }
 },
 "nbformat": 4,
 "nbformat_minor": 2
}
